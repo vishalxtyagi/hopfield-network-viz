{
 "cells": [
  {
   "cell_type": "markdown",
   "metadata": {},
   "source": [
    "## 🌟 Level Up: Exploring More Neurons!\n",
    "\n",
    "Now that we understand how two neurons work together, let's try something more exciting - a network with more neurons! \n",
    "We'll create some fun patterns and see how our network remembers them."
   ]
  },
  {
   "cell_type": "code",
   "execution_count": 1,
   "metadata": {},
   "outputs": [],
   "source": [
    "import numpy as np\n",
    "import matplotlib.pyplot as plt\n",
    "from IPython.display import clear_output\n",
    "import time"
   ]
  },
  {
   "cell_type": "markdown",
   "metadata": {},
   "source": [
    "### 🎨 First, Let's Create Some Fun Patterns!\n",
    "We'll make simple patterns that our network can learn and remember."
   ]
  },
  {
   "cell_type": "code",
   "execution_count": 2,
   "metadata": {},
   "outputs": [],
   "source": [
    "def create_letter_pattern(letter):\n",
    "    \"\"\"\n",
    "    Creates patterns in the shape of letters or symbols\n",
    "    Each pattern is a 5x5 grid where 1 is filled and -1 is empty\n",
    "    \"\"\"\n",
    "    patterns = {\n",
    "        'X': np.array([\n",
    "            [ 1, -1, -1, -1,  1],\n",
    "            [-1,  1, -1,  1, -1],\n",
    "            [-1, -1,  1, -1, -1],\n",
    "            [-1,  1, -1,  1, -1],\n",
    "            [ 1, -1, -1, -1,  1]\n",
    "        ]),\n",
    "        'O': np.array([\n",
    "            [-1,  1,  1,  1, -1],\n",
    "            [ 1, -1, -1, -1,  1],\n",
    "            [ 1, -1, -1, -1,  1],\n",
    "            [ 1, -1, -1, -1,  1],\n",
    "            [-1,  1,  1,  1, -1]\n",
    "        ]),\n",
    "        '+': np.array([\n",
    "            [-1, -1,  1, -1, -1],\n",
    "            [-1, -1,  1, -1, -1],\n",
    "            [ 1,  1,  1,  1,  1],\n",
    "            [-1, -1,  1, -1, -1],\n",
    "            [-1, -1,  1, -1, -1]\n",
    "        ])\n",
    "    }\n",
    "    return patterns.get(letter)"
   ]
  },
  {
   "cell_type": "markdown",
   "metadata": {},
   "source": [
    "### 🧮 Now Let's Create Our Advanced Network!"
   ]
  },
  {
   "cell_type": "code",
   "execution_count": 3,
   "metadata": {},
   "outputs": [],
   "source": [
    "class AdvancedHopfieldNetwork:\n",
    "    \"\"\"\n",
    "    A more advanced Hopfield Network that can learn and remember patterns\n",
    "    \"\"\"\n",
    "    def __init__(self, size):\n",
    "        \"\"\"Initialize our network with a given size\"\"\"\n",
    "        self.size = size\n",
    "        self.weights = np.zeros((size, size))\n",
    "    \n",
    "    def train(self, patterns):\n",
    "        \"\"\"Teach our network to remember patterns\"\"\"\n",
    "        # Reset weights\n",
    "        self.weights = np.zeros((self.size, self.size))\n",
    "        \n",
    "        # Learn each pattern\n",
    "        for pattern in patterns:\n",
    "            flat_pattern = pattern.flatten()\n",
    "            # Update weights using Hebbian learning\n",
    "            self.weights += np.outer(flat_pattern, flat_pattern)\n",
    "        \n",
    "        # Remove self-connections\n",
    "        np.fill_diagonal(self.weights, 0)\n",
    "        \n",
    "        # Normalize weights\n",
    "        self.weights /= len(patterns)\n",
    "    \n",
    "    def update(self, state):\n",
    "        \"\"\"Update the network state\"\"\"\n",
    "        # Flatten the state\n",
    "        flat_state = state.flatten()\n",
    "        # Calculate new state\n",
    "        new_state = np.sign(self.weights @ flat_state)\n",
    "        # Reshape back to original shape\n",
    "        return new_state.reshape(state.shape)\n",
    "    \n",
    "    def run(self, initial_state, max_iterations=20):\n",
    "        \"\"\"Run the network until it stabilizes or reaches max iterations\"\"\"\n",
    "        state = initial_state.copy()\n",
    "        states_history = [state.copy()]\n",
    "        \n",
    "        for _ in range(max_iterations):\n",
    "            new_state = self.update(state)\n",
    "            if np.array_equal(new_state, state):\n",
    "                break\n",
    "            state = new_state\n",
    "            states_history.append(state.copy())\n",
    "        \n",
    "        return state, states_history"
   ]
  },
  {
   "cell_type": "markdown",
   "metadata": {},
   "source": [
    "### 📊 Let's Create Some Nice Visualization Functions!"
   ]
  },
  {
   "cell_type": "code",
   "execution_count": 4,
   "metadata": {},
   "outputs": [],
   "source": [
    "def plot_pattern(pattern, title=\"Pattern\"):\n",
    "    \"\"\"Show a single pattern with a nice colormap\"\"\"\n",
    "    plt.imshow(pattern, cmap='coolwarm')\n",
    "    plt.title(title)\n",
    "    plt.axis('off')\n",
    "    plt.colorbar(label='Neuron State')\n",
    "\n",
    "def plot_patterns(patterns, titles):\n",
    "    \"\"\"Show multiple patterns side by side\"\"\"\n",
    "    fig, axes = plt.subplots(1, len(patterns), figsize=(4*len(patterns), 4))\n",
    "    if len(patterns) == 1:\n",
    "        axes = [axes]\n",
    "    \n",
    "    for ax, pattern, title in zip(axes, patterns, titles):\n",
    "        ax.imshow(pattern, cmap='coolwarm')\n",
    "        ax.set_title(title)\n",
    "        ax.axis('off')\n",
    "    plt.tight_layout()\n",
    "    plt.show()\n",
    "\n",
    "def animate_network_evolution(states_history):\n",
    "    \"\"\"Show how the network evolves over time\"\"\"\n",
    "    for i, state in enumerate(states_history):\n",
    "        clear_output(wait=True)\n",
    "        plt.figure(figsize=(6, 6))\n",
    "        plt.imshow(state, cmap='coolwarm')\n",
    "        plt.title(f'Step {i}')\n",
    "        plt.axis('off')\n",
    "        plt.colorbar(label='Neuron State')\n",
    "        plt.show()\n",
    "        time.sleep(0.5)"
   ]
  },
  {
   "cell_type": "markdown",
   "metadata": {},
   "source": [
    "### 🚀 Let's Try Our Advanced Network!"
   ]
  },
  {
   "cell_type": "code",
   "execution_count": 5,
   "metadata": {},
   "outputs": [
    {
     "data": {
      "image/png": "[encoded data removed]",
      "text/plain": [
       "<Figure size 1200x400 with 3 Axes>"
      ]
     },
     "metadata": {},
     "output_type": "display_data"
    }
   ],
   "source": [
    "# Create our training patterns\n",
    "pattern_X = create_letter_pattern('X')\n",
    "pattern_O = create_letter_pattern('O')\n",
    "pattern_plus = create_letter_pattern('+')\n",
    "\n",
    "# Show our training patterns\n",
    "plot_patterns([pattern_X, pattern_O, pattern_plus], ['X Pattern', 'O Pattern', '+ Pattern'])"
   ]
  },
  {
   "cell_type": "markdown",
   "metadata": {},
   "source": [
    "### 🎓 Train Our Network"
   ]
  },
  {
   "cell_type": "code",
   "execution_count": 6,
   "metadata": {},
   "outputs": [],
   "source": [
    "# Create and train our network\n",
    "network = AdvancedHopfieldNetwork(25)  # 5x5 = 25 neurons\n",
    "network.train([pattern_X.flatten(), pattern_O.flatten(), pattern_plus.flatten()])"
   ]
  },
  {
   "cell_type": "markdown",
   "metadata": {},
   "source": [
    "### 🎮 Let's Test Our Network!\n",
    "We'll create a noisy pattern and see if our network can clean it up."
   ]
  },
  {
   "cell_type": "code",
   "execution_count": 7,
   "metadata": {},
   "outputs": [
    {
     "data": {
      "image/png": "[encoded data removed]",
      "text/plain": [
       "<Figure size 800x400 with 2 Axes>"
      ]
     },
     "metadata": {},
     "output_type": "display_data"
    }
   ],
   "source": [
    "def add_noise(pattern, noise_level=0.2):\n",
    "    \"\"\"Add some random noise to our pattern\"\"\"\n",
    "    noisy = pattern.copy()\n",
    "    mask = np.random.random(pattern.shape) < noise_level\n",
    "    noisy[mask] *= -1\n",
    "    return noisy\n",
    "\n",
    "# Create a noisy version of X\n",
    "noisy_X = add_noise(pattern_X)\n",
    "\n",
    "# Show original and noisy patterns\n",
    "plot_patterns([pattern_X, noisy_X], ['Original X', 'Noisy X'])"
   ]
  },
  {
   "cell_type": "markdown",
   "metadata": {},
   "source": [
    "### 🔄 Watch The Network Fix The Pattern!"
   ]
  },
  {
   "cell_type": "code",
   "execution_count": 8,
   "metadata": {},
   "outputs": [
    {
     "data": {
      "image/png": "[encoded data removed]",
      "text/plain": [
       "<Figure size 600x600 with 2 Axes>"
      ]
     },
     "metadata": {},
     "output_type": "display_data"
    }
   ],
   "source": [
    "# Try to recover the original pattern\n",
    "recovered, history = network.run(noisy_X)\n",
    "\n",
    "# Animate the recovery process\n",
    "animate_network_evolution(history)"
   ]
  },
  {
   "cell_type": "markdown",
   "metadata": {},
   "source": [
    "### 🎯 Final Result"
   ]
  },
  {
   "cell_type": "code",
   "execution_count": 9,
   "metadata": {},
   "outputs": [
    {
     "data": {
      "image/png": "[encoded data removed]",
      "text/plain": [
       "<Figure size 1200x400 with 3 Axes>"
      ]
     },
     "metadata": {},
     "output_type": "display_data"
    }
   ],
   "source": [
    "# Show the final comparison\n",
    "plot_patterns([pattern_X, noisy_X, recovered], \n",
    "             ['Original Pattern', 'Noisy Pattern', 'Recovered Pattern'])"
   ]
  },
  {
   "cell_type": "markdown",
   "metadata": {},
   "source": [
    "### 🤓 Fun Experiments to Try:\n",
    "\n",
    "1. **Change the Noise Level**: \n",
    "   - Try different noise_level values in add_noise()\n",
    "   - What's the maximum noise the network can handle?\n",
    "\n",
    "2. **Create Your Own Patterns**:\n",
    "   - Add new patterns to the create_letter_pattern function\n",
    "   - Try teaching the network more patterns\n",
    "\n",
    "3. **Watch Recovery**:\n",
    "   - Try different noisy patterns\n",
    "   - See how the network recovers them\n",
    "\n",
    "4. **Experiment with Size**:\n",
    "   - Try making the grid bigger or smaller\n",
    "   - How does this affect the network's memory?"
   ]
  },
  {
   "cell_type": "markdown",
   "metadata": {},
   "source": [
    "### 📚 What Did We Learn?\n",
    "\n",
    "1. Our network can now:\n",
    "   - Remember multiple patterns\n",
    "   - Clean up noisy or incomplete patterns\n",
    "   - Show us how it thinks step by step\n",
    "\n",
    "2. Just like our two-neuron network:\n",
    "   - It still tries to find comfortable states\n",
    "   - It helps neurons work together\n",
    "   - It can recover memories (patterns) even when they're messy!\n",
    "\n",
    "3. This is similar to how our brains:\n",
    "   - Remember patterns\n",
    "   - Complete partial information\n",
    "   - Clean up noisy memories"
   ]
  }
 ],
 "metadata": {
  "kernelspec": {
   "display_name": "Python 3",
   "language": "python",
   "name": "python3"
  },
  "language_info": {
   "codemirror_mode": {
    "name": "ipython",
    "version": 3
   },
   "file_extension": ".py",
   "mimetype": "text/x-python",
   "name": "python",
   "nbconvert_exporter": "python",
   "pygments_lexer": "ipython3",
   "version": "3.12.7"
  }
 },
 "nbformat": 4,
 "nbformat_minor": 2
}
